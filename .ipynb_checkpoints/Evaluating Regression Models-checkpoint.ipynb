{
 "cells": [
  {
   "cell_type": "markdown",
   "id": "fde7fd05",
   "metadata": {},
   "source": [
    "Metrics(hoặc độ đo) là các chỉ số được sử dụng để đo lường và đánh giá hiệu suất mô hình dự đoán, phân loại. hay bất kì thuật toán nào khác."
   ]
  },
  {
   "cell_type": "markdown",
   "id": "14269cf0",
   "metadata": {},
   "source": [
    "# $R^2$ score"
   ]
  },
  {
   "cell_type": "markdown",
   "id": "1f3008c6",
   "metadata": {},
   "source": [
    "còn được gọi là hệ số xác định, là một độ đo được sử dụng để đánh giá mức độ phù hợp của mô hình hồi quy tuyến tính.\n",
    "Giá trị của R-squared nằm trong khoảng (-∞,1], và nó thể hiện **tỷ lệ phương sai** của biến mục tiêu (y) đã được dự đoán bởi biến độc lập.\n",
    "\n",
    "$R^2$ được tính bằng 1 - tổng bình phương các sai số(giá trị thực tế- giá trị dự đoán) / tổng bình phương sự khác biệt(giá trị thực tế - giá trị trung bình của dữ liệu mục tiêu)"
   ]
  },
  {
   "cell_type": "markdown",
   "id": "95771e90",
   "metadata": {},
   "source": [
    "**Công thức**:\n",
    "\n",
    " <font size =5> $R^2(y,\\hat{y}) = 1 -  \\frac{\\sum_{i=1}^n (y_i - \\hat{y_i})^2}{\\sum_{i=1}^n (y_i - \\bar{y})^2}$\n",
    " \n"
   ]
  },
  {
   "cell_type": "code",
   "execution_count": 1,
   "id": "0e49c298",
   "metadata": {
    "ExecuteTime": {
     "end_time": "2023-10-16T08:09:12.389075Z",
     "start_time": "2023-10-16T08:09:11.314078Z"
    }
   },
   "outputs": [
    {
     "name": "stdout",
     "output_type": "stream",
     "text": [
      "R2 Score: 0.9817961165048544\n"
     ]
    }
   ],
   "source": [
    "from sklearn.metrics import r2_score\n",
    "\n",
    "y_true = [3.0, 4.5, 5.0, 6.8, 8.2]\n",
    "y_pred = [2.8, 4.3, 5.2, 6.5, 7.9]\n",
    "r2 = r2_score(y_true, y_pred)\n",
    "\n",
    "print(\"R2 Score:\", r2)\n"
   ]
  },
  {
   "cell_type": "markdown",
   "id": "f3b0b1d5",
   "metadata": {},
   "source": [
    "=> càng gần 1 thì hiệu suất mô hình càng tốt\n"
   ]
  },
  {
   "cell_type": "markdown",
   "id": "96a6fc24",
   "metadata": {},
   "source": [
    "# Mean Absolute Error (MAE)"
   ]
  },
  {
   "cell_type": "markdown",
   "id": "e951fa1d",
   "metadata": {},
   "source": [
    "là một phép đo độ lỗi trong bài toàn dự đoán và regression.Nó đo lường sai số trung bình giữa các giá trị dự đoán và giá trị thực tế."
   ]
  },
  {
   "cell_type": "markdown",
   "id": "fef69a51",
   "metadata": {},
   "source": [
    "**Công thức**:\n",
    "\n",
    "<font size =5> $ MAE = \\frac {1}{n} \\sum_{i=1}^n |y_i -\\hat{y_i}| $ <font>"
   ]
  },
  {
   "cell_type": "markdown",
   "id": "9cd7f125",
   "metadata": {},
   "source": [
    "trong đó:\n",
    "* $y_i$ là giá trị thực tế\n",
    "* $\\hat y_i$ là giá trị dự đoán"
   ]
  },
  {
   "cell_type": "code",
   "execution_count": 8,
   "id": "2c26787e",
   "metadata": {
    "ExecuteTime": {
     "end_time": "2023-09-05T02:56:25.167568Z",
     "start_time": "2023-09-05T02:56:25.155532Z"
    }
   },
   "outputs": [
    {
     "data": {
      "text/plain": [
       "0.23999999999999985"
      ]
     },
     "execution_count": 8,
     "metadata": {},
     "output_type": "execute_result"
    }
   ],
   "source": [
    "from sklearn.metrics import mean_absolute_error\n",
    "mean_absolute_error(y_true, y_pred)\n",
    "# |y_true-y_pred| = [0.2,0.2,0.2,0.3,0.3]"
   ]
  },
  {
   "cell_type": "markdown",
   "id": "666d2a4e",
   "metadata": {},
   "source": [
    "# Mean Squared Error (MSE)"
   ]
  },
  {
   "cell_type": "markdown",
   "id": "a4ca84f2",
   "metadata": {},
   "source": [
    "tính toán sai số trung bình bình phương, là độ đo rủi ro tương ứng với giá trị kỳ vọng của sai số bình phương"
   ]
  },
  {
   "cell_type": "markdown",
   "id": "ddbc8248",
   "metadata": {},
   "source": [
    "**Công thức:**\n",
    "\n",
    "<font size =5> $ MSE = \\frac{1}{n} \\sum_{i=1}^n (\\hat{y_i}-y_i)^2 $ <font>\n",
    "    \n",
    "trong đó:\n",
    "    \n",
    "* **n** là số lượng mẫu\n",
    "* $\\hat{y_i}$ là giá trị dự đoán mẫu thứ i\n",
    "* $y_i$ là giá trị thực tế tương ứng thứ i"
   ]
  },
  {
   "cell_type": "markdown",
   "id": "a529b777",
   "metadata": {},
   "source": [
    "**Lưu ý**: MSE có thể rất **nhạy cảm với giá trị ngoại lai** (Outliers) vì nó tính bình phương sai số. Một giá trị ngoại lai lớn có thể làm tăng rất nhiều giá trị MSE và làm cho độ lỗi tổng quát trở nên không đáng tin cậy"
   ]
  },
  {
   "cell_type": "code",
   "execution_count": 4,
   "id": "3b8a3b08",
   "metadata": {
    "ExecuteTime": {
     "end_time": "2023-09-05T02:52:40.204774Z",
     "start_time": "2023-09-05T02:52:40.160979Z"
    }
   },
   "outputs": [
    {
     "data": {
      "text/plain": [
       "0.0599999999999999"
      ]
     },
     "execution_count": 4,
     "metadata": {},
     "output_type": "execute_result"
    }
   ],
   "source": [
    "from sklearn.metrics import mean_squared_error\n",
    "\n",
    "mean_squared_error(y_true, y_pred)\n"
   ]
  },
  {
   "cell_type": "markdown",
   "id": "25adff41",
   "metadata": {},
   "source": [
    "# Root Mean Squared Error (RMSE):"
   ]
  },
  {
   "cell_type": "markdown",
   "id": "6bb07586",
   "metadata": {},
   "source": [
    "tỉnh toán sai số trung bình của sai số giữa giá trị dự đoán và giá trị thực tế"
   ]
  },
  {
   "cell_type": "markdown",
   "id": "b59e3274",
   "metadata": {},
   "source": [
    "**Công thức:**\n",
    "\n",
    "<font size =5> $ RMSE =\\sqrt{ \\frac{1}{n} \\sum_{i=1}^n (\\hat{y_i}-y_i)^2} $ <font>"
   ]
  },
  {
   "cell_type": "code",
   "execution_count": 17,
   "id": "0f07c9ef",
   "metadata": {
    "ExecuteTime": {
     "end_time": "2023-09-05T04:38:22.421425Z",
     "start_time": "2023-09-05T04:38:22.394425Z"
    }
   },
   "outputs": [
    {
     "data": {
      "text/plain": [
       "0.2449489742783176"
      ]
     },
     "execution_count": 17,
     "metadata": {},
     "output_type": "execute_result"
    }
   ],
   "source": [
    "from sklearn.metrics import mean_squared_error\n",
    "\n",
    "np.sqrt(mean_squared_error(y_true, y_pred))\n"
   ]
  },
  {
   "cell_type": "markdown",
   "id": "51edbe87",
   "metadata": {},
   "source": [
    "# Mean squared logarithmic error (MSLE)"
   ]
  },
  {
   "cell_type": "markdown",
   "id": "9a640e3d",
   "metadata": {},
   "source": [
    "tương tự như MSE nhưng lấy logarit"
   ]
  },
  {
   "cell_type": "markdown",
   "id": "9f8187f9",
   "metadata": {},
   "source": [
    "**Công thức:**\n",
    "\n",
    "<font size =5>$ MSLE = \\frac {1}{n} \\sum_{i=1}^n (ln(1+\\hat{y_i}) - ln(1+y_i))^2 $ <font>"
   ]
  },
  {
   "cell_type": "code",
   "execution_count": 5,
   "id": "efb3008c",
   "metadata": {
    "ExecuteTime": {
     "end_time": "2023-09-05T02:53:12.506108Z",
     "start_time": "2023-09-05T02:53:12.483108Z"
    }
   },
   "outputs": [
    {
     "data": {
      "text/plain": [
       "0.00154311270556465"
      ]
     },
     "execution_count": 5,
     "metadata": {},
     "output_type": "execute_result"
    }
   ],
   "source": [
    "from sklearn.metrics import mean_squared_log_error\n",
    "\n",
    "mean_squared_log_error(y_true, y_pred)"
   ]
  },
  {
   "cell_type": "markdown",
   "id": "a627a7da",
   "metadata": {},
   "source": [
    "# Mean Absolute Percentage Error (MAPE)"
   ]
  },
  {
   "cell_type": "markdown",
   "id": "377ef333",
   "metadata": {},
   "source": [
    "là độ đo đánh giá hiệu suất cho các bài toán hồi quy. Ý tưởng của phép đo này là nhạy cảm đổi với sai số tương đối."
   ]
  },
  {
   "cell_type": "markdown",
   "id": "0fbbd15f",
   "metadata": {},
   "source": [
    "**Công thức**:\n",
    "\n",
    "<font size =5>$ MAPE = \\frac{1}{n} \\sum_{i=1}^n |\\frac{y_i-\\hat{y_i}}{max(ε,y_i)}|$<font>"
   ]
  },
  {
   "cell_type": "markdown",
   "id": "4c2b72a4",
   "metadata": {},
   "source": [
    "trong đó: **ε** là một số nhỏ tùy ý tuyệt đối dương nhằm tránh kết quả không xác định khi *$y_i$* bằng 0"
   ]
  },
  {
   "cell_type": "code",
   "execution_count": 10,
   "id": "ffb65648",
   "metadata": {
    "ExecuteTime": {
     "end_time": "2023-09-05T03:10:57.252924Z",
     "start_time": "2023-09-05T03:10:57.235966Z"
    }
   },
   "outputs": [
    {
     "data": {
      "text/plain": [
       "0.046362824804718636"
      ]
     },
     "execution_count": 10,
     "metadata": {},
     "output_type": "execute_result"
    }
   ],
   "source": [
    "from sklearn.metrics import mean_absolute_percentage_error\n",
    "mean_absolute_percentage_error(y_true, y_pred)"
   ]
  },
  {
   "cell_type": "markdown",
   "id": "1a308634",
   "metadata": {},
   "source": [
    "# Median absolute error (MedAE)"
   ]
  },
  {
   "cell_type": "markdown",
   "id": "81974e51",
   "metadata": {},
   "source": [
    "lấy giá trị trung vị của tất cả sai số tuyệt đối giữa giá trị thực tế và giá trị dự đoán"
   ]
  },
  {
   "cell_type": "markdown",
   "id": "e61df289",
   "metadata": {},
   "source": [
    "<font size=5> $ MedAE = median(|y_1 - \\hat{y_1}|,...,|y_n-\\hat{y_n}|) $ <font>"
   ]
  },
  {
   "cell_type": "code",
   "execution_count": 11,
   "id": "eb07f246",
   "metadata": {
    "ExecuteTime": {
     "end_time": "2023-09-05T03:17:20.272428Z",
     "start_time": "2023-09-05T03:17:20.253454Z"
    }
   },
   "outputs": [
    {
     "data": {
      "text/plain": [
       "0.20000000000000018"
      ]
     },
     "execution_count": 11,
     "metadata": {},
     "output_type": "execute_result"
    }
   ],
   "source": [
    "from sklearn.metrics import median_absolute_error\n",
    "median_absolute_error(y_true, y_pred)"
   ]
  },
  {
   "cell_type": "markdown",
   "id": "9833c4fd",
   "metadata": {},
   "source": [
    "# Max error:"
   ]
  },
  {
   "cell_type": "markdown",
   "id": "c18544c6",
   "metadata": {},
   "source": [
    "là phép đo lường sai số tệ nhất giữa giá trị dự đoán và giá trị thực tế => Cho cái nhìn về mức độ tệ nhất mà mô hình có thể đạt được"
   ]
  },
  {
   "cell_type": "markdown",
   "id": "570ddede",
   "metadata": {
    "ExecuteTime": {
     "end_time": "2023-09-05T03:20:41.431367Z",
     "start_time": "2023-09-05T03:20:41.414364Z"
    }
   },
   "source": [
    "<font size=5> $ MaxError = max(|y_1 - \\hat{y_1}|,...,|y_n-\\hat{y_n}|) $ <font>"
   ]
  },
  {
   "cell_type": "code",
   "execution_count": 13,
   "id": "f0f4f306",
   "metadata": {
    "ExecuteTime": {
     "end_time": "2023-09-05T03:22:13.114482Z",
     "start_time": "2023-09-05T03:22:13.097476Z"
    }
   },
   "outputs": [
    {
     "data": {
      "text/plain": [
       "0.2999999999999998"
      ]
     },
     "execution_count": 13,
     "metadata": {},
     "output_type": "execute_result"
    }
   ],
   "source": [
    "from sklearn.metrics import max_error\n",
    "\n",
    "max_error(y_true, y_pred)"
   ]
  },
  {
   "cell_type": "markdown",
   "id": "97623bba",
   "metadata": {},
   "source": [
    "# Explained variance score:"
   ]
  },
  {
   "cell_type": "markdown",
   "id": "7f0fb839",
   "metadata": {},
   "source": [
    "Điểm giải thích biến thiên. Đo lường sự **khác biệt giữa phương sai** của giá trị thực tế và giá trị dự đoán so với phương sai của giá trị thực tế."
   ]
  },
  {
   "cell_type": "markdown",
   "id": "5cdd0b5c",
   "metadata": {},
   "source": [
    "**=>** là phép đo hữu ích để đánh giá khả năng mô hình trong việc giải thích sự biến thiên của dữ liệu.Nếu mô hình có khả năng giải thích nhiều phần của biến thiên trong dữ liệu, điểm giải thích biến thiên sẽ gần với 1, mô hình được coi là hiệu quả trong việc **mô phỏng dữ liệu** "
   ]
  },
  {
   "cell_type": "markdown",
   "id": "273b4c40",
   "metadata": {
    "ExecuteTime": {
     "end_time": "2023-09-05T03:28:35.386861Z",
     "start_time": "2023-09-05T03:28:35.364599Z"
    }
   },
   "source": [
    "**Công thức**:\n",
    "\n",
    "<font size =5> explained_variance(y,$\\hat{y}$) = 1 - $\\frac{Var(y-\\hat{y)}}{Var(y)}$ <font>"
   ]
  },
  {
   "cell_type": "code",
   "execution_count": 15,
   "id": "9e88c77b",
   "metadata": {
    "ExecuteTime": {
     "end_time": "2023-09-05T03:30:25.991474Z",
     "start_time": "2023-09-05T03:30:25.968917Z"
    }
   },
   "outputs": [
    {
     "data": {
      "text/plain": [
       "0.9895631067961165"
      ]
     },
     "execution_count": 15,
     "metadata": {},
     "output_type": "execute_result"
    }
   ],
   "source": [
    "from sklearn.metrics import explained_variance_score\n",
    "explained_variance_score(y_true, y_pred)"
   ]
  },
  {
   "cell_type": "markdown",
   "id": "2dd1bd4d",
   "metadata": {},
   "source": [
    "**=> Giá trị tốt nhất là 1**"
   ]
  },
  {
   "cell_type": "markdown",
   "id": "a5c531b5",
   "metadata": {},
   "source": [
    "# Choosing\n",
    "\n",
    "- **MAE**: \n",
    " * Sử dụng khi quan tâm đến độ lớn trung bình của sai số tuyệt đối và muốn biết giá trị trung bình của sai số dự đoán\n",
    " * Thích hợp trong các tình huống **không có giá trị ngoại lai lớn** ảnh hưởng đến kq\n",
    "- **MSE**:\n",
    " * Sử dụng khi muốn đánh giá mức độ lớn của sai số và **làm nổi bật** các sai số lớn hơn\n",
    " * Thường sd trong tình huống mà **giá trị ngoại lai** có thể xuất hiện mà ta muốn **đo lường sự ảnh hưởng** của chúng\n",
    "- **RMSE**:\n",
    " * Sd khi muốn biết độ lớn trung bình của sai số dưới dạng căn bậc hai, hay muốn **đơn vị giống với biến phụ thuộc**\n",
    " * Giúp trung bình hóa sai số và có tính **phù hợp để so sánh**\n",
    "\n",
    "- **MSLE**: \n",
    " * Sử dụng khi muốn đánh giá sai số ở dạng logarit tự nhiên, thường dùng cho dữ liệu dạng logarit hoặc biến đổi logarit.\n",
    " * Phù hợp trong các tình huống đo lượng **độ chênh lệch tỷ lệ**\n",
    " \n",
    "- **MAPE**: \n",
    " * Thường được sử dụng trong lĩnh vực tài chính và kinh tế để đo lường sai số tương đối dưới dạng phần trăm\n",
    " * Hữu ích khi quan tâm đến mức độ sai số tương đối của dự đoán.\n",
    "\n",
    "- **MedAE**: Sử dụng khi quan tâm đến tính **ổn định** và không muốn sai số lớn ảnh hưởng nhiều.\n",
    "\n",
    "- **Max Error**: \n",
    " * Thường được sử dụng khi quan tâm đến **trường hợp xấu nhất** mà mô hình có thể đạt được\n",
    " * Nó giúp biết được **sai số tối đa** mà mô hình có thể tạo ra.\n",
    "\n",
    "\n"
   ]
  },
  {
   "cell_type": "markdown",
   "id": "7a2fc07f",
   "metadata": {},
   "source": [
    "## R² Score vs Explained Variance Score\n",
    "\n",
    "- **R² Score**: \n",
    " * đo lường phần trăm biến thiên trong biến phụ thuộc (target) mà mô hình đã giải thích thành công\n",
    " * **Không** phản ánh trực tiếp **sai số giữa giá trị dự đoán và giá trị thực tế**\n",
    " * Tập trung vào đo lượng sự giải thích của mô hình **đối với phương sai** của biến phụ thuộc\n",
    "- **Explained Variance Score**: \n",
    " * đo lường khả năng mô hình giải thích sự biến đổi **tổng cộng** của dữ liệu. Nó cho biết mức độ mà mô hình có thể \"hiểu\" và \"giải thích\" sự biến đổi trong dữ liệu.\n",
    " * cũng **Không** phản ánh trực tiếp **sai số giữa giá trị dự đoán và giá trị thực tế**\n",
    " * **Tuy nhiên** điểm khác biệt đáng chú ý giữa chúng là Explained Variance score không tính đến sự sai lệch có hệ thống trong dự đoán của mô hình.\n",
    "\n"
   ]
  },
  {
   "cell_type": "markdown",
   "id": "ea5d79a7",
   "metadata": {},
   "source": [
    "# uu nhuoc diem"
   ]
  },
  {
   "cell_type": "markdown",
   "id": "085376a7",
   "metadata": {},
   "source": [
    "* **$R^2$ Score:**\n",
    "    * Ưu điểm: dễ hiểu, dễ so sánh do nằm trong khoảng (0,1)\n",
    "    * Nhược điểm: Không phản ánh trực tiếp sai số\n",
    "* **MAE**:\n",
    "    * Ưu điểm: Dễ hiểu, thể hiện trực tiếp sai số\n",
    "    * Nhược điểm: Khó khăn trong việc tính toán do chứa giá trị tuyệt đối, khó đạo hàm\n",
    "* **MSE**:\n",
    "    * Ưu điểm: Dễ hiểu, biểu diễn tốt sai số hơn cả, dễ thực hiện đạo hàm\n",
    "    * Nhược điểm: Khi có outliers, dẫn đến giá trị vô cùng lớn, khó so sánh, kiểm soát\n",
    "* **RMSE**:\n",
    "    * Ưu điểm: Đỡ bị ảnh hưởng bởi outliers hơn, biểu diễn trực tiếp sai số do cùng đơn vị, dễ so sánh\n",
    "    * Nhược điểm: Đạo hàm hơi khó khăn."
   ]
  },
  {
   "cell_type": "code",
   "execution_count": null,
   "id": "bcfe8b21",
   "metadata": {},
   "outputs": [],
   "source": []
  }
 ],
 "metadata": {
  "kernelspec": {
   "display_name": "jupyter_kernel",
   "language": "python",
   "name": "jupyter_kernel"
  },
  "language_info": {
   "codemirror_mode": {
    "name": "ipython",
    "version": 3
   },
   "file_extension": ".py",
   "mimetype": "text/x-python",
   "name": "python",
   "nbconvert_exporter": "python",
   "pygments_lexer": "ipython3",
   "version": "3.8.13"
  },
  "toc": {
   "base_numbering": 1,
   "nav_menu": {},
   "number_sections": true,
   "sideBar": true,
   "skip_h1_title": false,
   "title_cell": "Table of Contents",
   "title_sidebar": "Contents",
   "toc_cell": false,
   "toc_position": {
    "height": "calc(100% - 180px)",
    "left": "10px",
    "top": "150px",
    "width": "384px"
   },
   "toc_section_display": true,
   "toc_window_display": true
  },
  "varInspector": {
   "cols": {
    "lenName": 16,
    "lenType": 16,
    "lenVar": 40
   },
   "kernels_config": {
    "python": {
     "delete_cmd_postfix": "",
     "delete_cmd_prefix": "del ",
     "library": "var_list.py",
     "varRefreshCmd": "print(var_dic_list())"
    },
    "r": {
     "delete_cmd_postfix": ") ",
     "delete_cmd_prefix": "rm(",
     "library": "var_list.r",
     "varRefreshCmd": "cat(var_dic_list()) "
    }
   },
   "types_to_exclude": [
    "module",
    "function",
    "builtin_function_or_method",
    "instance",
    "_Feature"
   ],
   "window_display": false
  }
 },
 "nbformat": 4,
 "nbformat_minor": 5
}
